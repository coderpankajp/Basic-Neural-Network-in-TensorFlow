{
  "nbformat": 4,
  "nbformat_minor": 0,
  "metadata": {
    "colab": {
      "name": "Basic ANN.ipynb",
      "provenance": [],
      "collapsed_sections": []
    },
    "kernelspec": {
      "name": "python3",
      "display_name": "Python 3"
    }
  },
  "cells": [
    {
      "cell_type": "markdown",
      "metadata": {
        "id": "9uciDmQTGTCn",
        "colab_type": "text"
      },
      "source": [
        "\n",
        "*   **Installation**\n",
        "\n"
      ]
    },
    {
      "cell_type": "code",
      "metadata": {
        "colab_type": "code",
        "id": "PUNO2E6SeURH",
        "colab": {}
      },
      "source": [
        "import tensorflow as tf\n",
        "import numpy as np\n",
        "import pylab\n",
        "from tensorflow import keras"
      ],
      "execution_count": 9,
      "outputs": []
    },
    {
      "cell_type": "markdown",
      "metadata": {
        "id": "nfjvKEBsRFlk",
        "colab_type": "text"
      },
      "source": [
        "\n",
        "*  **Data Initialization**\n",
        "*   **Data Plot**"
      ]
    },
    {
      "cell_type": "code",
      "metadata": {
        "id": "GDdzAFhXPdJB",
        "colab_type": "code",
        "colab": {}
      },
      "source": [
        "X = np.array([1,2,3,4,5,6,7,8,9,10])\n",
        "Y = np.array([1,4,9,16,25,36,49,64,81,100])\n",
        "pylab.plot(X,Y)\n",
        "pylab.xlabel('X')\n",
        "pylab.ylabel('Y')\n",
        "pylab.title('X vs Y')"
      ],
      "execution_count": null,
      "outputs": []
    },
    {
      "cell_type": "markdown",
      "metadata": {
        "id": "gEJK3F1RGSCL",
        "colab_type": "text"
      },
      "source": [
        "\n",
        "*  **Training of Neural Network**\n",
        "\n",
        "\n",
        "1.   Number of Hideen Layers = 1 \n",
        "2.   ReLU Activation function\n",
        "3.   Optimizer : Stochastic gradient descent \n",
        "4.   Epochs : 1000 \n"
      ]
    },
    {
      "cell_type": "code",
      "metadata": {
        "id": "5lncS3ZW-58d",
        "colab_type": "code",
        "colab": {}
      },
      "source": [
        "model =  tf.keras.Sequential([keras.layers.Dense(units = 1, input_shape = [1])]) # Your Code Here#\n",
        "model.compile(optimizer = 'sgd', loss = 'mean_squared_error')\n",
        "model.fit(X, Y, epochs = 1000)"
      ],
      "execution_count": null,
      "outputs": []
    },
    {
      "cell_type": "markdown",
      "metadata": {
        "id": "mOyr-_h7gJYh",
        "colab_type": "text"
      },
      "source": [
        "\n",
        "\n",
        "*   **Prediction**\n"
      ]
    },
    {
      "cell_type": "code",
      "metadata": {
        "id": "LNVZAGPV-8qX",
        "colab_type": "code",
        "colab": {}
      },
      "source": [
        "print(model.predict([8]))"
      ],
      "execution_count": null,
      "outputs": []
    }
  ]
}